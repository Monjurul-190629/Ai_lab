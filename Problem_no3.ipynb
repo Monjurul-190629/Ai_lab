{
 "cells": [
  {
   "cell_type": "code",
   "execution_count": 11,
   "id": "45f5773d",
   "metadata": {},
   "outputs": [
    {
     "name": "stdout",
     "output_type": "stream",
     "text": [
      "Enter vertex no: 0\n",
      "Enter the adjacent: 1 4 2\n",
      "Enter vertex no: 1\n",
      "Enter the adjacent: 0 4 3 2\n",
      "Enter vertex no: 2\n",
      "Enter the adjacent: 1 3\n",
      "Enter vertex no: 3\n",
      "Enter the adjacent: 1 2 4\n",
      "Enter vertex no: 4\n",
      "Enter the adjacent: 1 3 5\n",
      "Enter vertex no: 5\n",
      "Enter the adjacent: 4\n",
      "0\n",
      "1\n",
      "4\n",
      "3\n",
      "2\n",
      "5\n"
     ]
    }
   ],
   "source": [
    "grap = {\n",
    "    'A' : ['B','C'],\n",
    "    'B' : ['D', 'E'],\n",
    "    'C' : ['F'],\n",
    "    'D' : [],\n",
    "    'E' : ['F'],\n",
    "    'F' : []\n",
    "}\n",
    "graph = {}\n",
    "for i in range(6):\n",
    "    vertex_no = input(\"Enter vertex no: \")\n",
    "    adjacent = input(\"Enter the adjacent: \")\n",
    "    adj = list(adjacent.split(\" \")); \n",
    "    graph[vertex_no.title()] = adj\n",
    "\n",
    "visited = set() # Set to keep track of visited nodes.\n",
    "\n",
    "def dfs(visited, graph, node):\n",
    "    if node not in visited:\n",
    "        print (node)\n",
    "        visited.add(node)\n",
    "        for neighbour in graph[node]:\n",
    "            dfs(visited, graph, neighbour)\n",
    "\n",
    "# Driver Code\n",
    "dfs(visited, graph, '0')"
   ]
  },
  {
   "cell_type": "code",
   "execution_count": null,
   "id": "ebb79381",
   "metadata": {},
   "outputs": [],
   "source": []
  },
  {
   "cell_type": "code",
   "execution_count": null,
   "id": "36dabfe3",
   "metadata": {},
   "outputs": [],
   "source": []
  },
  {
   "cell_type": "code",
   "execution_count": null,
   "id": "18c82e2c",
   "metadata": {},
   "outputs": [],
   "source": []
  }
 ],
 "metadata": {
  "kernelspec": {
   "display_name": "Python 3 (ipykernel)",
   "language": "python",
   "name": "python3"
  },
  "language_info": {
   "codemirror_mode": {
    "name": "ipython",
    "version": 3
   },
   "file_extension": ".py",
   "mimetype": "text/x-python",
   "name": "python",
   "nbconvert_exporter": "python",
   "pygments_lexer": "ipython3",
   "version": "3.11.2"
  }
 },
 "nbformat": 4,
 "nbformat_minor": 5
}
