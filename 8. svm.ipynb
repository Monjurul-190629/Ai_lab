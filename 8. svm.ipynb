{
 "cells": [
  {
   "cell_type": "code",
   "execution_count": 17,
   "id": "48c00b67",
   "metadata": {},
   "outputs": [
    {
     "name": "stdout",
     "output_type": "stream",
     "text": [
      "Training data :  (240, 2)\n",
      "Testing data :  (160, 2)\n"
     ]
    },
    {
     "data": {
      "text/plain": [
       "0.66875"
      ]
     },
     "execution_count": 17,
     "metadata": {},
     "output_type": "execute_result"
    }
   ],
   "source": [
    "import numpy as np\n",
    "import pandas as pd\n",
    "import matplotlib.pyplot as plt\n",
    "import seaborn as sb\n",
    "from sklearn.model_selection import train_test_split\n",
    "from sklearn.svm import SVC\n",
    "\n",
    "df=pd.read_csv('Social_Network_Ads.csv')\n",
    "x=df.iloc[:,[0,1]]\n",
    "y=df.iloc[:,2]\n",
    "\n",
    "xtrain,xtest,ytrain,ytest = train_test_split(x,y,test_size=.40,random_state=1)\n",
    "print('Training data : ',xtrain.shape)\n",
    "print('Testing data : ',xtest.shape)\n",
    "\n",
    "model=SVC(gamma='auto')\n",
    "model.fit(xtrain,ytrain)\n",
    "model.score(xtest,ytest)"
   ]
  },
  {
   "cell_type": "code",
   "execution_count": null,
   "id": "7f3e99a7",
   "metadata": {},
   "outputs": [],
   "source": []
  }
 ],
 "metadata": {
  "kernelspec": {
   "display_name": "Python 3 (ipykernel)",
   "language": "python",
   "name": "python3"
  },
  "language_info": {
   "codemirror_mode": {
    "name": "ipython",
    "version": 3
   },
   "file_extension": ".py",
   "mimetype": "text/x-python",
   "name": "python",
   "nbconvert_exporter": "python",
   "pygments_lexer": "ipython3",
   "version": "3.11.2"
  }
 },
 "nbformat": 4,
 "nbformat_minor": 5
}
