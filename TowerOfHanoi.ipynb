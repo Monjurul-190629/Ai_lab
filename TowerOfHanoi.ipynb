{
 "cells": [
  {
   "cell_type": "code",
   "execution_count": 9,
   "id": "2ba7e5af",
   "metadata": {},
   "outputs": [
    {
     "name": "stdout",
     "output_type": "stream",
     "text": [
      "0\n",
      "2\n",
      "1\n",
      "4\n",
      "3\n",
      "3\n"
     ]
    },
    {
     "data": {
      "text/plain": [
       "{'0', '1', '2', '3', '4'}"
      ]
     },
     "execution_count": 9,
     "metadata": {},
     "output_type": "execute_result"
    }
   ],
   "source": [
    "def dfs(grap, start, visited=None):\n",
    "    if visited is None:\n",
    "        visited = set()\n",
    "    visited.add(start)\n",
    "\n",
    "    print(start)\n",
    "\n",
    "    for nex in grap[start] - visited:\n",
    "        dfs(grap, nex, visited)\n",
    "    return visited\n",
    "\n",
    "\n",
    "graph = {'0': {'1', '2'},\n",
    "         '1': {'0', '3', '4'},\n",
    "         '2': {'0'},\n",
    "         '3': {'1'},\n",
    "         '4': {'2', '3'}}\n",
    "\n",
    "dfs(graph, '0')\n"
   ]
  },
  {
   "cell_type": "code",
   "execution_count": null,
   "id": "3a7c866a",
   "metadata": {},
   "outputs": [],
   "source": []
  }
 ],
 "metadata": {
  "kernelspec": {
   "display_name": "Python 3 (ipykernel)",
   "language": "python",
   "name": "python3"
  },
  "language_info": {
   "codemirror_mode": {
    "name": "ipython",
    "version": 3
   },
   "file_extension": ".py",
   "mimetype": "text/x-python",
   "name": "python",
   "nbconvert_exporter": "python",
   "pygments_lexer": "ipython3",
   "version": "3.11.2"
  }
 },
 "nbformat": 4,
 "nbformat_minor": 5
}
